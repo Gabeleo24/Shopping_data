{
 "cells": [
  {
   "cell_type": "markdown",
   "id": "2ec75063-e032-4208-98ee-44c97c3c2563",
   "metadata": {},
   "source": [
    "\n",
    "Title: \"Online Shopping data cleaning and interpolation\" \n",
    "Author : \"Gabriel E Mancillas Gallardo\n",
    "date: \"2023-12-08\" \n",
    "\n",
    "\n",
    "Here is a rundown of what my portion of work might include: \n",
    "\n",
    "Understanding the Dataset:\n",
    "Familiarize yourself with the dataset by identifying the number of features (columns), records (rows), and the type of data (numerical, categorical, boolean).\n",
    "Determine the significance of each feature and its potential role in any analysis or predictive modeling.\n",
    "\n",
    "Data Importing:\n",
    "Import the dataset into an appropriate data analysis tool (like Python with pandas, R, etc.).\n",
    "Verify that the data has been imported correctly by checking for any discrepancies in the number of rows and columns.\n",
    "\n",
    "Data Cleaning:\n",
    "Check for and handle missing values, even though initial inspection suggests there are none. Sometimes missing values are hidden as placeholders (like zeros, negative values, or strings such as 'unknown', 'n/a').\n",
    "Detect and correct errors or inconsistencies in data, such as typos, incorrect entries, or mislabeled classes.\n",
    "Remove duplicate records to prevent skewed analysis.\n",
    "\n",
    "Data Transformation:\n",
    "Normalize or scale numerical features to ensure that no variable dominates others because of its scale, which is important for models like k-nearest neighbors (KNN) or gradient descent-based algorithms.\n",
    "Encode categorical variables using techniques like one-hot encoding or label encoding, so that they can be used in mathematical models.\n",
    "Aggregate data if needed, for instance, summarizing daily data into monthly data if the analysis calls for it.\n",
    "\n",
    "Feature Engineering:\n",
    "Create new features that could be important for the analysis or predictive modeling. For instance, from the Month column, you could derive a feature that represents the season.\n",
    "Discretize continuous features if it makes sense for the analysis. For example, you could categorize Age into groups like 'Young', 'Middle-Aged', and 'Senior'.\n",
    "\n",
    "Data Reduction:\n",
    "Reduce dimensionality if the dataset is very large or contains many features that are not contributing to the analysis. Techniques like Principal Component Analysis (PCA) can be useful here.\n",
    "Perform feature selection to keep the most relevant features, which could involve domain knowledge, statistical tests, or model-based selection.\n",
    "\n",
    "Ensuring Data Quality:\n",
    "Validate the quality of the data to ensure accuracy, completeness, and reliability.\n",
    "Document any assumptions or decisions made during the pre-processing steps.\n",
    "\n"
   ]
  },
  {
   "cell_type": "code",
   "execution_count": 31,
   "id": "f9824f56-aa43-40fd-a005-9c88364a42dc",
   "metadata": {},
   "outputs": [
    {
     "name": "stdout",
     "output_type": "stream",
     "text": [
      "/Users/gabrielmancillas\n"
     ]
    }
   ],
   "source": [
    "import os\n",
    "import pandas as pd\n",
    "import numpy as np\n",
    "import seaborn as sns\n",
    "import matplotlib\n",
    "import sklearn\n",
    "from matplotlib import pyplot as plt\n",
    "from sklearn.model_selection import train_test_split\n",
    "from sklearn.model_selection import StratifiedShuffleSplit\n",
    "from sklearn.preprocessing import OneHotEncoder, LabelEncoder\n",
    "from sklearn.naive_bayes import GaussianNB \n",
    "from sklearn import metrics \n",
    "from sklearn.ensemble import RandomForestClassifier, ExtraTreesClassifier\n",
    "from sklearn.metrics import roc_auc_score\n",
    "from sklearn.metrics import log_loss\n",
    "from sklearn.model_selection import cross_val_score\n",
    "from sklearn.dummy import DummyClassifier\n",
    "from sklearn.preprocessing import MinMaxScaler\n",
    "import warnings\n",
    "from sklearn.metrics import roc_auc_score, roc_curve\n",
    "\n",
    "\n",
    "working_directory = os.getcwd()\n",
    "print(working_directory)\n",
    "\n",
    "path = working_directory + '/online_shoppers_intentions.csv' \n",
    "df = pd.read_csv(os.path.join(os.getcwd(),'online_shoppers_intentions.csv'))\n",
    "\n",
    "df = pd.read_csv(path) "
   ]
  },
  {
   "cell_type": "code",
   "execution_count": 32,
   "id": "d58ec278-f095-4d49-bb7a-7fd185f22838",
   "metadata": {},
   "outputs": [
    {
     "name": "stdout",
     "output_type": "stream",
     "text": [
      "<class 'pandas.core.frame.DataFrame'>\n",
      "RangeIndex: 12330 entries, 0 to 12329\n",
      "Data columns (total 18 columns):\n",
      " #   Column                   Non-Null Count  Dtype  \n",
      "---  ------                   --------------  -----  \n",
      " 0   Administrative           12330 non-null  int64  \n",
      " 1   Administrative_Duration  12330 non-null  float64\n",
      " 2   Informational            12202 non-null  float64\n",
      " 3   Informational_Duration   12330 non-null  float64\n",
      " 4   ProductRelated           12330 non-null  int64  \n",
      " 5   ProductRelated_Duration  12330 non-null  float64\n",
      " 6   BounceRates              12330 non-null  float64\n",
      " 7   ExitRates                12330 non-null  float64\n",
      " 8   PageValues               12195 non-null  float64\n",
      " 9   SpecialDay               12330 non-null  float64\n",
      " 10  Month                    12330 non-null  object \n",
      " 11  OperatingSystems         12207 non-null  float64\n",
      " 12  Browser                  12330 non-null  int64  \n",
      " 13  Region                   12330 non-null  int64  \n",
      " 14  TrafficType              12330 non-null  int64  \n",
      " 15  VisitorType              12330 non-null  object \n",
      " 16  Weekend                  12330 non-null  bool   \n",
      " 17  Revenue                  12330 non-null  bool   \n",
      "dtypes: bool(2), float64(9), int64(5), object(2)\n",
      "memory usage: 1.5+ MB\n"
     ]
    },
    {
     "data": {
      "text/plain": [
       "(None,\n",
       "    Administrative  Administrative_Duration  Informational  \\\n",
       " 0               0                      0.0            0.0   \n",
       " 1               0                      0.0            0.0   \n",
       " 2               0                      0.0            0.0   \n",
       " 3               0                      0.0            0.0   \n",
       " 4               0                      0.0            0.0   \n",
       " \n",
       "    Informational_Duration  ProductRelated  ProductRelated_Duration  \\\n",
       " 0                     0.0               1                 0.000000   \n",
       " 1                     0.0               2                64.000000   \n",
       " 2                     0.0               1                 0.000000   \n",
       " 3                     0.0               2                 2.666667   \n",
       " 4                     0.0              10               627.500000   \n",
       " \n",
       "    BounceRates  ExitRates  PageValues  SpecialDay Month  OperatingSystems  \\\n",
       " 0         0.20       0.20         0.0         0.0   Feb               1.0   \n",
       " 1         0.00       0.10         0.0         0.0   Feb               2.0   \n",
       " 2         0.20       0.20         0.0         0.0   Feb               4.0   \n",
       " 3         0.05       0.14         0.0         0.0   Feb               3.0   \n",
       " 4         0.02       0.05         0.0         0.0   Feb               3.0   \n",
       " \n",
       "    Browser  Region  TrafficType        VisitorType  Weekend  Revenue  \n",
       " 0        1       1            1  Returning_Visitor    False    False  \n",
       " 1        2       1            2  Returning_Visitor    False    False  \n",
       " 2        1       9            3  Returning_Visitor    False    False  \n",
       " 3        2       2            4  Returning_Visitor    False    False  \n",
       " 4        3       1            4  Returning_Visitor     True    False  ,\n",
       "        Administrative  Administrative_Duration  Informational  \\\n",
       " count    12330.000000             12330.000000   12202.000000   \n",
       " mean         2.315166                80.818611       0.503770   \n",
       " std          3.321784               176.779107       1.270882   \n",
       " min          0.000000                 0.000000       0.000000   \n",
       " 25%          0.000000                 0.000000       0.000000   \n",
       " 50%          1.000000                 7.500000       0.000000   \n",
       " 75%          4.000000                93.256250       0.000000   \n",
       " max         27.000000              3398.750000      24.000000   \n",
       " \n",
       "        Informational_Duration  ProductRelated  ProductRelated_Duration  \\\n",
       " count            12330.000000    12330.000000             12330.000000   \n",
       " mean                34.472398       31.731468              1194.746220   \n",
       " std                140.749294       44.475503              1913.669288   \n",
       " min                  0.000000        0.000000                 0.000000   \n",
       " 25%                  0.000000        7.000000               184.137500   \n",
       " 50%                  0.000000       18.000000               598.936905   \n",
       " 75%                  0.000000       38.000000              1464.157214   \n",
       " max               2549.375000      705.000000             63973.522230   \n",
       " \n",
       "         BounceRates     ExitRates    PageValues    SpecialDay  \\\n",
       " count  12330.000000  12330.000000  12195.000000  12330.000000   \n",
       " mean       0.022191      0.043073      5.911196      0.061427   \n",
       " std        0.048488      0.048597     18.632116      0.198917   \n",
       " min        0.000000      0.000000      0.000000      0.000000   \n",
       " 25%        0.000000      0.014286      0.000000      0.000000   \n",
       " 50%        0.003112      0.025156      0.000000      0.000000   \n",
       " 75%        0.016813      0.050000      0.000000      0.000000   \n",
       " max        0.200000      0.200000    361.763742      1.000000   \n",
       " \n",
       "        OperatingSystems       Browser        Region   TrafficType  \n",
       " count      12207.000000  12330.000000  12330.000000  12330.000000  \n",
       " mean           2.123618      2.357097      3.147364      4.069586  \n",
       " std            0.911829      1.717277      2.401591      4.025169  \n",
       " min            1.000000      1.000000      1.000000      1.000000  \n",
       " 25%            2.000000      2.000000      1.000000      2.000000  \n",
       " 50%            2.000000      2.000000      3.000000      2.000000  \n",
       " 75%            3.000000      2.000000      4.000000      4.000000  \n",
       " max            8.000000     13.000000      9.000000     20.000000  ,\n",
       " {'Administrative': 27,\n",
       "  'Administrative_Duration': 3335,\n",
       "  'Informational': 17,\n",
       "  'Informational_Duration': 1258,\n",
       "  'ProductRelated': 311,\n",
       "  'ProductRelated_Duration': 9551,\n",
       "  'BounceRates': 1872,\n",
       "  'ExitRates': 4777,\n",
       "  'PageValues': 2681,\n",
       "  'SpecialDay': 6,\n",
       "  'Month': 10,\n",
       "  'OperatingSystems': 8,\n",
       "  'Browser': 13,\n",
       "  'Region': 9,\n",
       "  'TrafficType': 20,\n",
       "  'VisitorType': 3,\n",
       "  'Weekend': 2,\n",
       "  'Revenue': 2,\n",
       "  'VisitorType_enc': 3})"
      ]
     },
     "execution_count": 32,
     "metadata": {},
     "output_type": "execute_result"
    }
   ],
   "source": [
    "df_info = df.info()\n",
    "df_head = df.head()\n",
    "df_describe = df.describe()\n",
    "df_nunique = {column: data[column].nunique() for column in data.columns}\n",
    "\n",
    "df_info, df_head, df_describe, df_nunique"
   ]
  },
  {
   "cell_type": "markdown",
   "id": "6fcbc1d6-5515-408b-aef2-588d1e1c6170",
   "metadata": {},
   "source": [
    "# DataFrame Information:\n",
    "\n",
    "The dataset is contained in a DataFrame, which is a tabular data structure with labeled axes (rows and columns). It has 12,330 entries (rows) and 18 columns. Each column's name, number of non-null values, and data type (int64, float64, bool, object) are listed. There's a usage of 1.4+ MB memory by this DataFrame. First Few Rows (Head of the DataFrame):\n",
    "\n",
    "The head() method output shows the first five rows of the DataFrame. Columns include various numerical and categorical features such as Administrative, Administrative_Duration, Informational, Informational_Duration, ProductRelated, ProductRelated_Duration, BounceRates, ExitRates, PageValues, SpecialDay, Month, OperatingSystems, Browser, Region, TrafficType, VisitorType, Weekend, and Revenue. Descriptive Statistics:\n",
    "\n",
    "The describe() method provides a statistical summary of the numerical columns. This includes count, mean, standard deviation, minimum, 25th percentile, median (50th percentile), 75th percentile, and maximum values for columns like Administrative_Duration, Informational_Duration, ProductRelated_Duration, BounceRates, ExitRates, and PageValues. Unique Value Counts:\n",
    "\n",
    "The nunique() method shows the count of unique values for each column, which helps to understand the distribution of categorical data. For example, it shows how many different types of browsers or operating systems are represented in the dataset.\n",
    "***"
   ]
  },
  {
   "cell_type": "code",
   "execution_count": 33,
   "id": "4fc346d2-7a88-4520-b411-87f14ac4e7f8",
   "metadata": {},
   "outputs": [
    {
     "data": {
      "text/plain": [
       "(['Feb', 'Mar', 'May', 'Oct', 'Jun', 'Jul', 'Aug', 'Nov', 'Sep', 'Dec']\n",
       " Categories (12, object): ['Jan', 'Feb', 'Mar', 'Apr', ..., 'Sep', 'Oct', 'Nov', 'Dec'],\n",
       " CategoricalDtype(categories=['Jan', 'Feb', 'Mar', 'Apr', 'May', 'Jun', 'Jul', 'Aug',\n",
       "                   'Sep', 'Oct', 'Nov', 'Dec'],\n",
       " , ordered=False, categories_dtype=object))"
      ]
     },
     "execution_count": 33,
     "metadata": {},
     "output_type": "execute_result"
    }
   ],
   "source": [
    "df['Month'] = df['Month'].astype(str)\n",
    "\n",
    "df['Month'] = df['Month'].replace('June', 'Jun')\n",
    "\n",
    "# Convert 'Month' column to a categorical type with levels being the abbreviated month names\n",
    "df['Month'] = pd.Categorical(df['Month'], categories=[\n",
    "    'Jan', 'Feb', 'Mar', 'Apr', 'May', 'Jun',\n",
    "    'Jul', 'Aug', 'Sep', 'Oct', 'Nov', 'Dec'\n",
    "])\n",
    "\n",
    "# Display the unique values in 'Month' column to verify the changes\n",
    "df['Month'].unique(), df.dtypes['Month']"
   ]
  },
  {
   "cell_type": "code",
   "execution_count": 34,
   "id": "bc2a519a-f639-4688-bf60-a2aeefec5eeb",
   "metadata": {},
   "outputs": [
    {
     "name": "stdout",
     "output_type": "stream",
     "text": [
      "<class 'pandas.core.frame.DataFrame'>\n",
      "Index: 12209 entries, 0 to 12329\n",
      "Data columns (total 18 columns):\n",
      " #   Column                   Non-Null Count  Dtype   \n",
      "---  ------                   --------------  -----   \n",
      " 0   Administrative           12209 non-null  int64   \n",
      " 1   Administrative_Duration  12209 non-null  float64 \n",
      " 2   Informational            12081 non-null  float64 \n",
      " 3   Informational_Duration   12209 non-null  float64 \n",
      " 4   ProductRelated           12209 non-null  int64   \n",
      " 5   ProductRelated_Duration  12209 non-null  float64 \n",
      " 6   BounceRates              12209 non-null  float64 \n",
      " 7   ExitRates                12209 non-null  float64 \n",
      " 8   PageValues               12074 non-null  float64 \n",
      " 9   SpecialDay               12209 non-null  float64 \n",
      " 10  Month                    12209 non-null  category\n",
      " 11  OperatingSystems         12086 non-null  float64 \n",
      " 12  Browser                  12209 non-null  int64   \n",
      " 13  Region                   12209 non-null  int64   \n",
      " 14  TrafficType              12209 non-null  int64   \n",
      " 15  VisitorType              12209 non-null  object  \n",
      " 16  Weekend                  12209 non-null  bool    \n",
      " 17  Revenue                  12209 non-null  bool    \n",
      "dtypes: bool(2), category(1), float64(9), int64(5), object(1)\n",
      "memory usage: 1.5+ MB\n"
     ]
    },
    {
     "data": {
      "text/plain": [
       "(None, 121)"
      ]
     },
     "execution_count": 34,
     "metadata": {},
     "output_type": "execute_result"
    }
   ],
   "source": [
    "# Count the number of duplicate rows\n",
    "number_duplicate = df.duplicated().sum()\n",
    "\n",
    "# Remove the duplicate rows from the dataframe\n",
    "df = df[~df.duplicated()]\n",
    "\n",
    "# Display the structure of the dataframe using 'info()' which is similar to 'str()' in R\n",
    "df.info(), number_duplicate"
   ]
  },
  {
   "cell_type": "code",
   "execution_count": 35,
   "id": "3221aa98-bacc-4326-add5-b45e0fb2657d",
   "metadata": {},
   "outputs": [
    {
     "data": {
      "text/plain": [
       "Informational       128\n",
       "PageValues          135\n",
       "OperatingSystems    123\n",
       "dtype: int64"
      ]
     },
     "execution_count": 35,
     "metadata": {},
     "output_type": "execute_result"
    }
   ],
   "source": [
    "# Check for any missing values in the dataframe\n",
    "missing_values = df.isnull().sum()\n",
    "missing_values[missing_values > 0]"
   ]
  },
  {
   "cell_type": "code",
   "execution_count": 93,
   "id": "073a50f2-6092-4509-9683-8f593342ce44",
   "metadata": {},
   "outputs": [
    {
     "name": "stdout",
     "output_type": "stream",
     "text": [
      "<class 'pandas.core.frame.DataFrame'>\n",
      "Index: 11827 entries, 0 to 12208\n",
      "Data columns (total 19 columns):\n",
      " #   Column                   Non-Null Count  Dtype   \n",
      "---  ------                   --------------  -----   \n",
      " 0   Unnamed: 0               11827 non-null  int64   \n",
      " 1   Administrative           11827 non-null  int64   \n",
      " 2   Administrative_Duration  11827 non-null  float64 \n",
      " 3   Informational            11827 non-null  float64 \n",
      " 4   Informational_Duration   11827 non-null  float64 \n",
      " 5   ProductRelated           11827 non-null  int64   \n",
      " 6   ProductRelated_Duration  11827 non-null  float64 \n",
      " 7   BounceRates              11827 non-null  float64 \n",
      " 8   ExitRates                11827 non-null  float64 \n",
      " 9   PageValues               11827 non-null  float64 \n",
      " 10  SpecialDay               11827 non-null  float64 \n",
      " 11  Month                    11827 non-null  category\n",
      " 12  OperatingSystems         11827 non-null  float64 \n",
      " 13  Browser                  11827 non-null  int64   \n",
      " 14  Region                   11827 non-null  int64   \n",
      " 15  TrafficType              11827 non-null  int64   \n",
      " 16  VisitorType              11827 non-null  object  \n",
      " 17  Weekend                  11827 non-null  bool    \n",
      " 18  Revenue                  11827 non-null  bool    \n",
      "dtypes: bool(2), category(1), float64(9), int64(6), object(1)\n",
      "memory usage: 1.6+ MB\n"
     ]
    },
    {
     "data": {
      "text/plain": [
       "(None, Series([], dtype: int64))"
      ]
     },
     "execution_count": 93,
     "metadata": {},
     "output_type": "execute_result"
    }
   ],
   "source": [
    "# Remove rows with any missing values from the dataframe\n",
    "df.dropna(inplace=True)\n",
    "\n",
    "# Verify that there are no missing values left\n",
    "missing_values_cleaned = df_cleaned.isnull().sum()\n",
    "df_cleaned.info(), missing_values_cleaned[missing_values_cleaned > 0]"
   ]
  },
  {
   "cell_type": "markdown",
   "id": "fc48541d-1aa3-464f-b4cd-7a170679123f",
   "metadata": {},
   "source": [
    "#### After conducting a thorough analysis of the data, we closely scrutinized a specific column for any unwanted horizontal lines that could have impeded its interpretation. We meticulously checked each value in the column and, upon careful inspection, determined that there were no such lines present. \n",
    "\n",
    "#### Furthermore, we removed any empty or null values from the dataset to ensure that it was free from any incomplete or missing information. We did this by carefully reviewing each entry and identifying any instances where data was either absent or unknown. After identifying the errors, we removed them from the dataset to ensure its overall accuracy and completeness. In addition, we reviewed each entry in the dataset to eliminate any duplicate data. "
   ]
  },
  {
   "cell_type": "code",
   "execution_count": 94,
   "id": "9d611180-94fc-40b0-a4e7-6c02ca13b15a",
   "metadata": {},
   "outputs": [
    {
     "name": "stdout",
     "output_type": "stream",
     "text": [
      "Unnamed: 0\n",
      "[    0     1     2 ... 12327 12328 12329]\n",
      "===============\n",
      "Administrative\n",
      "[ 0  1  2  3  4  5  6  7  8  9 10 11 12 13 14 15 16 17 18 19 20 21 22 23\n",
      " 24 26 27]\n",
      "===============\n",
      "Administrative_Duration\n",
      "[0.00000000e+00 1.33333333e+00 2.00000000e+00 ... 2.65731806e+03\n",
      " 2.72050000e+03 3.39875000e+03]\n",
      "===============\n",
      "Informational\n",
      "[ 0.  1.  2.  3.  4.  5.  6.  7.  8.  9. 10. 11. 12. 13. 14. 16. 24.]\n",
      "===============\n",
      "Informational_Duration\n",
      "[0.00000000e+00 1.00000000e+00 1.50000000e+00 ... 2.25203333e+03\n",
      " 2.25691667e+03 2.54937500e+03]\n",
      "===============\n",
      "ProductRelated\n",
      "[  0   1   2   3   4   5   6   7   8   9  10  11  12  13  14  15  16  17\n",
      "  18  19  20  21  22  23  24  25  26  27  28  29  30  31  32  33  34  35\n",
      "  36  37  38  39  40  41  42  43  44  45  46  47  48  49  50  51  52  53\n",
      "  54  55  56  57  58  59  60  61  62  63  64  65  66  67  68  69  70  71\n",
      "  72  73  74  75  76  77  78  79  80  81  82  83  84  85  86  87  88  89\n",
      "  90  91  92  93  94  95  96  97  98  99 100 101 102 103 104 105 106 107\n",
      " 108 109 110 111 112 113 114 115 116 117 118 119 120 121 122 123 124 125\n",
      " 126 127 128 129 130 131 132 133 134 135 136 137 138 139 140 141 142 143\n",
      " 144 145 146 147 148 149 150 151 152 153 154 155 156 157 158 159 160 161\n",
      " 162 163 164 165 166 167 168 169 170 171 172 173 174 175 176 177 178 179\n",
      " 180 181 182 183 184 186 187 188 189 190 191 192 193 194 195 197 198 199\n",
      " 200 202 204 205 206 210 211 213 216 217 219 220 221 222 223 224 225 226\n",
      " 227 229 230 231 232 233 234 235 237 238 240 241 243 245 246 247 248 250\n",
      " 251 254 255 256 258 260 261 262 264 266 271 272 274 275 276 279 280 281\n",
      " 282 283 286 287 290 291 292 293 304 305 309 310 311 312 313 315 318 324\n",
      " 326 328 330 336 337 338 339 340 343 346 349 351 357 358 359 362 374 378\n",
      " 385 391 397 401 409 414 423 429 439 440 449 470 501 517 518 534 584 686\n",
      " 705]\n",
      "===============\n",
      "ProductRelated_Duration\n",
      "[0.00000000e+00 5.00000000e-01 1.00000000e+00 ... 2.99704660e+04\n",
      " 4.31712334e+04 6.39735222e+04]\n",
      "===============\n",
      "BounceRates\n",
      "[0.00000000e+00 2.73000000e-05 3.35000000e-05 ... 1.80000000e-01\n",
      " 1.83333333e-01 2.00000000e-01]\n",
      "===============\n",
      "ExitRates\n",
      "[0.00000000e+00 1.75593000e-04 2.50438000e-04 ... 1.88888889e-01\n",
      " 1.92307692e-01 2.00000000e-01]\n",
      "===============\n",
      "PageValues\n",
      "[0.00000000e+00 3.80345420e-02 9.35469490e-02 ... 2.87953793e+02\n",
      " 3.60953384e+02 3.61763742e+02]\n",
      "===============\n",
      "SpecialDay\n",
      "[0.  0.2 0.4 0.6 0.8 1. ]\n",
      "===============\n",
      "Month\n",
      "['Aug' 'Dec' 'Feb' 'Jul' 'Jun' 'Mar' 'May' 'Nov' 'Oct' 'Sep']\n",
      "===============\n",
      "OperatingSystems\n",
      "[1. 2. 3. 4. 5. 6. 7. 8.]\n",
      "===============\n",
      "Browser\n",
      "[ 1  2  3  4  5  6  7  8  9 10 11 12 13]\n",
      "===============\n",
      "Region\n",
      "[1 2 3 4 5 6 7 8 9]\n",
      "===============\n",
      "TrafficType\n",
      "[ 1  2  3  4  5  6  7  8  9 10 11 12 13 14 15 16 17 18 19 20]\n",
      "===============\n",
      "VisitorType\n",
      "['New_Visitor' 'Other' 'Returning_Visitor']\n",
      "===============\n",
      "Weekend\n",
      "[False  True]\n",
      "===============\n",
      "Revenue\n",
      "[False  True]\n",
      "===============\n"
     ]
    }
   ],
   "source": [
    "for key in df.keys():\n",
    "    print(key)\n",
    "    print(np.unique(df[key]))\n",
    "    print(\"===============\")"
   ]
  },
  {
   "cell_type": "markdown",
   "id": "f38d259e-6e6f-429a-b359-d86ff95a881a",
   "metadata": {},
   "source": [
    "Notes:\n",
    "\n",
    "-3 different types of time duration, administrative,product related and informational, detailed in readme, represents different parts of the website which correspond to the given names.\n",
    "\n",
    "-Revenue is just boolean, doesn't contain dollars spent , number of purchases etc\n",
    "\n",
    "Data categories:\n",
    "\n",
    "AdministrativeDuration-Continuous\n",
    "Administrative-Ordinal\n",
    "ProductRelatedDuration- continuous\n",
    "Information-Ordinal\n",
    "InformationDuration - continuous\n",
    "Product- Ordinal\n",
    "ProductRelatedDuration- continuous\n",
    "Bounce/Exit rates- conituous\n",
    "Month - Ordinal\n",
    "OperatingSystems - Nominal\n",
    "Region - Nominal\n",
    "Traffic Type - Nominal\n",
    "Visitor type - Nominal\n",
    "Weekend Boolean\n",
    "Revenue Boolean"
   ]
  },
  {
   "cell_type": "markdown",
   "id": "b3e3915b-21c5-4269-adfd-d2d977ffb682",
   "metadata": {},
   "source": [
    "* We check for duplicate for rows counts - there is non. "
   ]
  },
  {
   "cell_type": "code",
   "execution_count": 95,
   "id": "430c2484-99c6-4b2e-8ed4-55612cd973dc",
   "metadata": {},
   "outputs": [],
   "source": [
    "duplicate_rows_count = df.duplicated().sum()"
   ]
  },
  {
   "cell_type": "code",
   "execution_count": 109,
   "id": "899cdd6c-6340-4eba-bd85-0fde638d6470",
   "metadata": {
    "scrolled": true
   },
   "outputs": [
    {
     "name": "stdout",
     "output_type": "stream",
     "text": [
      "0\n"
     ]
    }
   ],
   "source": [
    "print(duplicate_rows_count)"
   ]
  },
  {
   "cell_type": "markdown",
   "id": "5dd992d4-70f2-452f-b71d-ab506306e4ae",
   "metadata": {},
   "source": [
    "#### I checked the dataset and found that there are no missing values (Null). This indicates that the data is complete and reliable. Moreover, the information is equally distributed across the dataset which is a good sign."
   ]
  },
  {
   "cell_type": "code",
   "execution_count": 116,
   "id": "34c35bc2-d072-45eb-b948-11cf1dfbbc6a",
   "metadata": {},
   "outputs": [],
   "source": [
    "columns_to_drop=[\"level_0\",\"index\",\"Unnamed: 0\"]"
   ]
  },
  {
   "cell_type": "code",
   "execution_count": 117,
   "id": "cc608426-11d6-4a93-9ae2-9c486e91fc04",
   "metadata": {},
   "outputs": [],
   "source": [
    "df.to_csv('cleaned_online_shopping_data.csv', index=False)"
   ]
  },
  {
   "cell_type": "markdown",
   "id": "10a1b716-08d8-40f9-8517-736d7192a85a",
   "metadata": {},
   "source": [
    "The END OF OUR CLEANING. "
   ]
  }
 ],
 "metadata": {
  "kernelspec": {
   "display_name": "Python 3 (ipykernel)",
   "language": "python",
   "name": "python3"
  },
  "language_info": {
   "codemirror_mode": {
    "name": "ipython",
    "version": 3
   },
   "file_extension": ".py",
   "mimetype": "text/x-python",
   "name": "python",
   "nbconvert_exporter": "python",
   "pygments_lexer": "ipython3",
   "version": "3.11.5"
  }
 },
 "nbformat": 4,
 "nbformat_minor": 5
}
